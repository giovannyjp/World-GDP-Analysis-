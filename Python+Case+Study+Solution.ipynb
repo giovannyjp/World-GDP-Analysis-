{
 "cells": [
  {
   "cell_type": "markdown",
   "metadata": {},
   "source": [
    "# World’s GDP Analysis from 2006 to 2015\n",
    "## Getting started\n",
    "\n",
    "> This notebook will solve the case study in three different ways:\n",
    " - The first one, so called brutal force, i.e. without using functions and packages;\n",
    " - The second a little bit more sophisticated, using NumPy package and advanced print statements;\n",
    " - The third one is advanced, using Pandas package to load the data;"
   ]
  },
  {
   "cell_type": "code",
   "execution_count": 1,
   "metadata": {
    "collapsed": false
   },
   "outputs": [],
   "source": [
    "# Import packages\n",
    "#import pandas as pd\n",
    "#import numpy as np"
   ]
  },
  {
   "cell_type": "markdown",
   "metadata": {},
   "source": [
    "## Method 1: Brutal force"
   ]
  },
  {
   "cell_type": "code",
   "execution_count": 2,
   "metadata": {
    "collapsed": false
   },
   "outputs": [],
   "source": [
    "# 0. Create the list to perform the analysis\n",
    "val = [4.377850739, 4.320227454, 1.843825615, -1.700531493, 4.371841631, \n",
    "       3.098472905, 2.44523353, 2.477955335, 2.689598851, 2.629479691] "
   ]
  },
  {
   "cell_type": "code",
   "execution_count": 3,
   "metadata": {
    "collapsed": false
   },
   "outputs": [
    {
     "name": "stdout",
     "output_type": "stream",
     "text": [
      "4.377850739\n"
     ]
    }
   ],
   "source": [
    "# 1. What was the biggest increase in the GDP in the last ten years?\n",
    "biggest = 0\n",
    "for v in val:\n",
    "    if v > biggest :\n",
    "        biggest = v\n",
    "print (biggest)"
   ]
  },
  {
   "cell_type": "code",
   "execution_count": 4,
   "metadata": {
    "collapsed": false
   },
   "outputs": [
    {
     "name": "stdout",
     "output_type": "stream",
     "text": [
      "-1.700531493\n"
     ]
    }
   ],
   "source": [
    "# 2. What was the biggest decrease in the GDP in the last ten years?\n",
    "lowest = 0\n",
    "for v in val:\n",
    "    if v < lowest :\n",
    "        lowest = v\n",
    "print (lowest)"
   ]
  },
  {
   "cell_type": "code",
   "execution_count": 5,
   "metadata": {
    "collapsed": false
   },
   "outputs": [
    {
     "name": "stdout",
     "output_type": "stream",
     "text": [
      "8\n"
     ]
    }
   ],
   "source": [
    "# 3. How many times the GDP has increased at least 2%?\n",
    "cont = 0\n",
    "for v in val:\n",
    "    if v >= 2 :\n",
    "        cont = cont + 1\n",
    "print (cont)"
   ]
  },
  {
   "cell_type": "code",
   "execution_count": 6,
   "metadata": {
    "collapsed": false
   },
   "outputs": [
    {
     "name": "stdout",
     "output_type": "stream",
     "text": [
      "1\n"
     ]
    }
   ],
   "source": [
    "# 4. How many times the GDP has decreased?\n",
    "cont = 0\n",
    "for v in val:\n",
    "    if v < 0 :\n",
    "        cont = cont + 1\n",
    "print (cont)"
   ]
  },
  {
   "cell_type": "code",
   "execution_count": 7,
   "metadata": {
    "collapsed": false
   },
   "outputs": [
    {
     "name": "stdout",
     "output_type": "stream",
     "text": [
      "2.6553954258\n"
     ]
    }
   ],
   "source": [
    "# 5. What was the average growth of the last ten years?\n",
    "cont = 0\n",
    "total = 0\n",
    "for v in val:\n",
    "    cont = cont + 1\n",
    "    total = total + v\n",
    "print (total/cont)"
   ]
  },
  {
   "cell_type": "code",
   "execution_count": 8,
   "metadata": {
    "collapsed": true
   },
   "outputs": [],
   "source": [
    "# 6. Which real world event is represented in this dataset?\n",
    "# Global economic crisis in 2009"
   ]
  },
  {
   "cell_type": "markdown",
   "metadata": {},
   "source": [
    "## Method 2: More sophisticated analysis (Using numpy and elaborated print)"
   ]
  },
  {
   "cell_type": "code",
   "execution_count": 9,
   "metadata": {
    "collapsed": false
   },
   "outputs": [],
   "source": [
    "# Import Numpy package\n",
    "import numpy as np"
   ]
  },
  {
   "cell_type": "code",
   "execution_count": 10,
   "metadata": {
    "collapsed": false
   },
   "outputs": [],
   "source": [
    "# 0. Create the list to perform the analysis\n",
    "np_val = np.array([ 4.377850739, 4.320227454, 1.843825615, -1.700531493, 4.371841631, \n",
    "                    3.098472905, 2.44523353, 2.477955335, 2.689598851, 2.629479691 ])"
   ]
  },
  {
   "cell_type": "code",
   "execution_count": 11,
   "metadata": {
    "collapsed": false
   },
   "outputs": [
    {
     "name": "stdout",
     "output_type": "stream",
     "text": [
      "The biggest increase was 4.377850739.\n"
     ]
    }
   ],
   "source": [
    "# 1. What was the biggest increase in the GDP in the last ten years?\n",
    "np_biggest = np.max(np_val)\n",
    "\n",
    "print ('The biggest increase was {}.'.format(np_biggest))"
   ]
  },
  {
   "cell_type": "code",
   "execution_count": 12,
   "metadata": {
    "collapsed": false
   },
   "outputs": [
    {
     "name": "stdout",
     "output_type": "stream",
     "text": [
      "The biggest decrease was -1.700531493.\n"
     ]
    }
   ],
   "source": [
    "# 2. What was the biggest decrease in the GDP in the last ten years?\n",
    "np_lowest = np.min(np_val)\n",
    "\n",
    "print ('The biggest decrease was {}.'.format(np_lowest))"
   ]
  },
  {
   "cell_type": "code",
   "execution_count": 13,
   "metadata": {
    "collapsed": false
   },
   "outputs": [
    {
     "name": "stdout",
     "output_type": "stream",
     "text": [
      "For 8 year(s) the World's GDP was above 2%.\n"
     ]
    }
   ],
   "source": [
    "# 3. How many times the GDP has increased at least 2%?\n",
    "np_cont = 0\n",
    "for np_v in np_val:\n",
    "    if np_v >= 2 :\n",
    "        np_cont = np_cont + 1\n",
    "\n",
    "print ('For {} year(s) the World\\'s GDP was above 2%.'.format(np_cont))"
   ]
  },
  {
   "cell_type": "code",
   "execution_count": 14,
   "metadata": {
    "collapsed": false
   },
   "outputs": [
    {
     "name": "stdout",
     "output_type": "stream",
     "text": [
      "For 1 year(s) the World's GDP has decreased.\n"
     ]
    }
   ],
   "source": [
    "# 4. How many times the GDP has decreased?\n",
    "np_cont = 0\n",
    "for np_v in np_val:\n",
    "    if np_v < 0 :\n",
    "        np_cont = np_cont + 1\n",
    "\n",
    "print ('For {} year(s) the World\\'s GDP has decreased.'.format(np_cont))"
   ]
  },
  {
   "cell_type": "code",
   "execution_count": 15,
   "metadata": {
    "collapsed": false
   },
   "outputs": [
    {
     "name": "stdout",
     "output_type": "stream",
     "text": [
      "The average growth of the decade was 2.6553954258.\n"
     ]
    }
   ],
   "source": [
    "# 5. What was the average growth of the decade?\n",
    "np_avg = np.average(np_val)\n",
    "\n",
    "print ('The average growth of the decade was {}.'.format(np_avg))"
   ]
  },
  {
   "cell_type": "code",
   "execution_count": 16,
   "metadata": {
    "collapsed": true
   },
   "outputs": [],
   "source": [
    "# 6. Which real world event is represented in this dataset?\n",
    "# Global economic crisis in 2009"
   ]
  },
  {
   "cell_type": "markdown",
   "metadata": {},
   "source": [
    "## Method 3: Advanced (Using Pandas package and more sophisticated print)"
   ]
  },
  {
   "cell_type": "code",
   "execution_count": 17,
   "metadata": {
    "collapsed": false
   },
   "outputs": [],
   "source": [
    "# Import pandas package\n",
    "import pandas as pd"
   ]
  },
  {
   "cell_type": "code",
   "execution_count": 18,
   "metadata": {
    "collapsed": false
   },
   "outputs": [],
   "source": [
    "# 0. Load the data to perform the analysis\n",
    "pd_val = pd.read_csv(\"gdp_growth.csv\")"
   ]
  },
  {
   "cell_type": "code",
   "execution_count": 19,
   "metadata": {
    "collapsed": false
   },
   "outputs": [
    {
     "name": "stdout",
     "output_type": "stream",
     "text": [
      "The biggest increase was 4.38% in 2006.\n"
     ]
    }
   ],
   "source": [
    "# 1. What was the biggest increase in the GDP in the last ten years?\n",
    "id_biggest = pd_val.annual_GDP_growth.idxmax()\n",
    "\n",
    "pd_biggest_grow = pd_val.annual_GDP_growth[id_biggest]\n",
    "pd_biggest_year = pd_val.year[id_biggest]\n",
    "\n",
    "# Improve the message, formating the percentage and adding the year\n",
    "print ('The biggest increase was {:.2f}% in {}.'.format(pd_biggest_grow, pd_biggest_year))"
   ]
  },
  {
   "cell_type": "code",
   "execution_count": 20,
   "metadata": {
    "collapsed": false
   },
   "outputs": [
    {
     "name": "stdout",
     "output_type": "stream",
     "text": [
      "The biggest decrease was -1.70% in 2009.\n"
     ]
    }
   ],
   "source": [
    "# 2. What was the biggest decrease in the GDP in the last ten years?\n",
    "id_lowest = pd_val.annual_GDP_growth.idxmin()\n",
    "\n",
    "pd_lowest_grow = pd_val.annual_GDP_growth[id_lowest]\n",
    "pd_lowest_year = pd_val.year[id_lowest]\n",
    "\n",
    "# Improve the message, formating the percentage and adding the year\n",
    "print ('The biggest decrease was {:.2f}% in {}.'.format(pd_lowest_grow, pd_lowest_year))"
   ]
  },
  {
   "cell_type": "code",
   "execution_count": 21,
   "metadata": {
    "collapsed": false
   },
   "outputs": [
    {
     "name": "stdout",
     "output_type": "stream",
     "text": [
      "For 8 year(s) the World's GDP was above 2% , 2006, 2007, 2010, 2011, 2012, 2013, 2014, 2015.\n"
     ]
    }
   ],
   "source": [
    "# 3. How many times the GDP has increased at least 2%?\n",
    "pd_count = len(pd_val[pd_val.annual_GDP_growth > 2])\n",
    "\n",
    "pd_years = \"\"\n",
    "\n",
    "for y in pd_val[pd_val.annual_GDP_growth > 2].year:\n",
    "    pd_years = pd_years + \", \" + str(y)\n",
    "\n",
    "# Improve the message, communicating the number of times and the list of years\n",
    "print ('For {} year(s) the World\\'s GDP was above 2% {}.'.format(pd_count, pd_years))"
   ]
  },
  {
   "cell_type": "code",
   "execution_count": 22,
   "metadata": {
    "collapsed": false
   },
   "outputs": [
    {
     "name": "stdout",
     "output_type": "stream",
     "text": [
      "For 1 year(s) the World's GDP has decreased , 2009.\n"
     ]
    }
   ],
   "source": [
    "# 4. How many times the GDP has decreased?\n",
    "pd_count = len(pd_val[pd_val.annual_GDP_growth < 0])\n",
    "\n",
    "pd_years = \"\"\n",
    "\n",
    "for y in pd_val[pd_val.annual_GDP_growth < 0].year:\n",
    "    pd_years = pd_years + \", \" + str(y)\n",
    "\n",
    "# Improve the message, communicating the number of times and the list of years\n",
    "print ('For {} year(s) the World\\'s GDP has decreased {}.'.format(pd_count, pd_years))"
   ]
  },
  {
   "cell_type": "code",
   "execution_count": 23,
   "metadata": {
    "collapsed": false
   },
   "outputs": [
    {
     "name": "stdout",
     "output_type": "stream",
     "text": [
      "The average growth of the decade was 2.66%.\n"
     ]
    }
   ],
   "source": [
    "# 5. What was the average growth of the last ten years?\n",
    "pd_avg = pd_val.annual_GDP_growth.mean()\n",
    "\n",
    "# Improve the message, formating the percentage and adding the year\n",
    "print ('The average growth of the decade was {:.2f}%.'.format(pd_avg))"
   ]
  },
  {
   "cell_type": "code",
   "execution_count": 24,
   "metadata": {
    "collapsed": false
   },
   "outputs": [],
   "source": [
    "# 6. Which real world event is represented in this dataset?\n",
    "# Global economic crisis in 2009"
   ]
  },
  {
   "cell_type": "code",
   "execution_count": null,
   "metadata": {
    "collapsed": true
   },
   "outputs": [],
   "source": []
  }
 ],
 "metadata": {
  "anaconda-cloud": {},
  "kernelspec": {
   "display_name": "Python 2",
   "language": "python",
   "name": "python2"
  },
  "language_info": {
   "codemirror_mode": {
    "name": "ipython",
    "version": 2
   },
   "file_extension": ".py",
   "mimetype": "text/x-python",
   "name": "python",
   "nbconvert_exporter": "python",
   "pygments_lexer": "ipython2",
   "version": "2.7.12"
  }
 },
 "nbformat": 4,
 "nbformat_minor": 1
}
